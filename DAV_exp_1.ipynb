{
  "nbformat": 4,
  "nbformat_minor": 0,
  "metadata": {
    "colab": {
      "provenance": [],
      "authorship_tag": "ABX9TyOjGoKTtj1uRzZxN0KX/c+V",
      "include_colab_link": true
    },
    "kernelspec": {
      "name": "python3",
      "display_name": "Python 3"
    },
    "language_info": {
      "name": "python"
    }
  },
  "cells": [
    {
      "cell_type": "markdown",
      "metadata": {
        "id": "view-in-github",
        "colab_type": "text"
      },
      "source": [
        "<a href=\"https://colab.research.google.com/github/atharvabaheti/DAV_03/blob/main/DAV_exp_1.ipynb\" target=\"_parent\"><img src=\"https://colab.research.google.com/assets/colab-badge.svg\" alt=\"Open In Colab\"/></a>"
      ]
    },
    {
      "cell_type": "markdown",
      "source": [
        "# **Aim: Getting introduced to data analytics libraries in Python and R**\n",
        "\n",
        "**Lab Objectives:** To effectively use libraries for data analytics.\n",
        "\n",
        "**Lab Outcomes (LO):** Explore various data analytics Libraries in R and Python. (LO1)\n",
        "\n",
        "**Task to be performed :**\n",
        "\n",
        "1. Explore Top-5 Data Analytics Libraries in Python (w.r.t Features & Applications)\n",
        " 1. Numpy\n",
        "\n",
        "  *   (Numerical Python) is the fundamental package for numerical computation in Python; it contains a powerful N-dimensional array object.\n",
        "  *   Provides fast, precompiled functions for numerical routines\n",
        "  *    Array-oriented computing for better efficiency\n",
        "  *    Supports an object-oriented approach\n",
        "  *    Compact and faster computations with vectorization\n",
        "\n",
        " 2. Pandas\n",
        "  *   Next in the list of python librabries is Pandads. Pandas (Python data analysis) is a must in the data science life cycle.\n",
        "  *   Eloquent syntax and rich functionalities that gives you the freedom to deal with missing data\n",
        "  *   Enables you to create your own function and run it across a series of data\n",
        "  *   High-level abstraction\n",
        "  *   Contains high-level data structures and manipulation tools\n",
        "  3. PyTorch\n",
        "  *   PyTorch, which is a Python-based scientific computing package that uses the power of graphics processing units.\n",
        "  *   PyTorch is famous for providing two of the most high-level features\n",
        "  *   tensor computations with strong GPU acceleration support\n",
        "  *   building deep neural networks on a tape-based autograd system\n",
        "  4. Matplotlib\n",
        "   *   Usable as a MATLAB replacement, with the advantage of being free and open source\n",
        "   *   Supports dozens of backends and output types, which means you can use it regardless of which operating system you’re using or which output format you wish to use\n",
        "   *   Pandas itself can be used as wrappers around MATLAB API to drive MATLAB like a cleaner\n",
        "   *   Low memory consumption and better runtime behavior\n",
        "   5. BeautifulSoup -\n",
        "   *  the next python library for data science. This is another popular python library most commonly known for web crawling and data scraping. Users can collect data that’s available on some website without a proper CSV or API, and BeautifulSoup can help them scrape it and arrange it into the required format.\n",
        "\n",
        "\n",
        "2. Explore Top-5 Data Analytics Libraries in R (w.r.t Features & Applications)\n",
        "  1. Dplyr\n",
        "   *   mainly used for data manipulation in R. Dplyr is actually built around these 5 functions. These functions make up the majority of the data manipulation you tend to do. You can work with local data frames as well as with remote database tables.\n",
        "   2. Ggplot2\n",
        "  *   Ggplot2 is the one of the best library for data visualization in R. The ggplot2 library implements a “grammar of graphics” (Wilkinson, 2005). This approach gives us a coherent way to produce visualizations by expressing relationships between the attributes of data and their graphical representation.\n",
        " 3. BioConductor\n",
        " * When you get into Data Science, you deal with different kinds of data. You may not know what sort of data you gotta deal with in future. If you are in health industry then trust me, you’ll find this very useful. I consider this library to be highly useful when you are working on genomic data.\n",
        " 4. Shiny\n",
        " * This is a very well known package in R. When you want to share your stuff with people around you and make it easier for them to understand and explore it visually, you can use shiny. It’s a Data Scientist’s best friend. Shiny makes it easier to build interactive web apps. You can host standalone apps on a webpage or embed them in R Markdown documents or build dashboards.\n",
        " 5. Knitr\n",
        " * This package is used for dynamic report generation in R. The purpose of knitr is to allow reproducible research in R through the means of Literate Programming. This package also enables integration of R code into LaTeX, Markdown, LyX, HTML, AsciiDoc, and reStructuredText documents.\n",
        "\n",
        "\n",
        "3. Install 2 Libraries each for Python and R\n",
        " 1. numpy\n",
        " 2. beautifulsoup\n",
        " 3. dplyr\n",
        " 4. tidyr\n",
        "\n"
      ],
      "metadata": {
        "id": "-39VQyCxO1i9"
      }
    },
    {
      "cell_type": "code",
      "execution_count": null,
      "metadata": {
        "colab": {
          "base_uri": "https://localhost:8080/"
        },
        "id": "_r2TabxHNYlE",
        "outputId": "dea47caf-64eb-48f8-9358-4b7f980dfe9d"
      },
      "outputs": [
        {
          "output_type": "stream",
          "name": "stdout",
          "text": [
            "[5 4 6 4 7 6 3 7 1 4 2]\n"
          ]
        }
      ],
      "source": [
        "import numpy as np\n",
        "print(np.random.randint(0, 10, size= 11))"
      ]
    },
    {
      "cell_type": "code",
      "source": [
        "!pip install beautifulsoup4"
      ],
      "metadata": {
        "colab": {
          "base_uri": "https://localhost:8080/"
        },
        "id": "7mrqnxqEV39-",
        "outputId": "155898c8-05d5-4ff1-9db0-852d208a912f"
      },
      "execution_count": null,
      "outputs": [
        {
          "output_type": "stream",
          "name": "stdout",
          "text": [
            "Requirement already satisfied: beautifulsoup4 in /usr/local/lib/python3.10/dist-packages (4.11.2)\n",
            "Requirement already satisfied: soupsieve>1.2 in /usr/local/lib/python3.10/dist-packages (from beautifulsoup4) (2.5)\n"
          ]
        }
      ]
    },
    {
      "cell_type": "code",
      "source": [
        "install.packages(\"dplyr\")"
      ],
      "metadata": {
        "colab": {
          "base_uri": "https://localhost:8080/"
        },
        "id": "oYoH0TuJY6nt",
        "outputId": "82121c4f-9c73-4617-d613-4e3b903dcb57"
      },
      "execution_count": null,
      "outputs": [
        {
          "output_type": "stream",
          "name": "stderr",
          "text": [
            "Installing package into ‘/usr/local/lib/R/site-library’\n",
            "(as ‘lib’ is unspecified)\n",
            "\n"
          ]
        }
      ]
    },
    {
      "cell_type": "code",
      "source": [
        "install.packages(\"tidyr\")"
      ],
      "metadata": {
        "colab": {
          "base_uri": "https://localhost:8080/"
        },
        "id": "VVk_StWKZ5O3",
        "outputId": "e7106df0-7f1a-4f56-af74-ad5790ad4824"
      },
      "execution_count": null,
      "outputs": [
        {
          "output_type": "stream",
          "name": "stderr",
          "text": [
            "Installing package into ‘/usr/local/lib/R/site-library’\n",
            "(as ‘lib’ is unspecified)\n",
            "\n"
          ]
        }
      ]
    },
    {
      "cell_type": "markdown",
      "source": [
        "4. Perform simple experiments on the 2 identified libraries each for Python and R"
      ],
      "metadata": {
        "id": "3FPWNJ0xaPN_"
      }
    },
    {
      "cell_type": "code",
      "source": [
        "import numpy as np\n",
        "\n",
        "print(np.info(np.add))"
      ],
      "metadata": {
        "id": "A9VJxTw-bLUW",
        "colab": {
          "base_uri": "https://localhost:8080/"
        },
        "outputId": "96f7ae32-e4df-43a6-e7ff-cc866564a99b"
      },
      "execution_count": null,
      "outputs": [
        {
          "output_type": "stream",
          "name": "stdout",
          "text": [
            "add(x1, x2, /, out=None, *, where=True, casting='same_kind', order='K', dtype=None, subok=True[, signature, extobj])\n",
            "\n",
            "Add arguments element-wise.\n",
            "\n",
            "Parameters\n",
            "----------\n",
            "x1, x2 : array_like\n",
            "    The arrays to be added.\n",
            "    If ``x1.shape != x2.shape``, they must be broadcastable to a common\n",
            "    shape (which becomes the shape of the output).\n",
            "out : ndarray, None, or tuple of ndarray and None, optional\n",
            "    A location into which the result is stored. If provided, it must have\n",
            "    a shape that the inputs broadcast to. If not provided or None,\n",
            "    a freshly-allocated array is returned. A tuple (possible only as a\n",
            "    keyword argument) must have length equal to the number of outputs.\n",
            "where : array_like, optional\n",
            "    This condition is broadcast over the input. At locations where the\n",
            "    condition is True, the `out` array will be set to the ufunc result.\n",
            "    Elsewhere, the `out` array will retain its original value.\n",
            "    Note that if an uninitialized `out` array is created via the default\n",
            "    ``out=None``, locations within it where the condition is False will\n",
            "    remain uninitialized.\n",
            "**kwargs\n",
            "    For other keyword-only arguments, see the\n",
            "    :ref:`ufunc docs <ufuncs.kwargs>`.\n",
            "\n",
            "Returns\n",
            "-------\n",
            "add : ndarray or scalar\n",
            "    The sum of `x1` and `x2`, element-wise.\n",
            "    This is a scalar if both `x1` and `x2` are scalars.\n",
            "\n",
            "Notes\n",
            "-----\n",
            "Equivalent to `x1` + `x2` in terms of array broadcasting.\n",
            "\n",
            "Examples\n",
            "--------\n",
            ">>> np.add(1.0, 4.0)\n",
            "5.0\n",
            ">>> x1 = np.arange(9.0).reshape((3, 3))\n",
            ">>> x2 = np.arange(3.0)\n",
            ">>> np.add(x1, x2)\n",
            "array([[  0.,   2.,   4.],\n",
            "       [  3.,   5.,   7.],\n",
            "       [  6.,   8.,  10.]])\n",
            "\n",
            "The ``+`` operator can be used as a shorthand for ``np.add`` on ndarrays.\n",
            "\n",
            ">>> x1 = np.arange(9.0).reshape((3, 3))\n",
            ">>> x2 = np.arange(3.0)\n",
            ">>> x1 + x2\n",
            "array([[ 0.,  2.,  4.],\n",
            "       [ 3.,  5.,  7.],\n",
            "       [ 6.,  8., 10.]])\n",
            "None\n"
          ]
        }
      ]
    },
    {
      "cell_type": "code",
      "source": [
        "#!/usr/bin/python3\n",
        "import requests\n",
        "\n",
        "url = 'https://notes.ayushsharma.in/technology'\n",
        "\n",
        "data = requests.get(url)\n",
        "\n",
        "print(data.url)"
      ],
      "metadata": {
        "id": "DhUr7z5Lbfou"
      },
      "execution_count": null,
      "outputs": []
    },
    {
      "cell_type": "code",
      "source": [
        "install.packages(\"dplyr\")"
      ],
      "metadata": {
        "colab": {
          "base_uri": "https://localhost:8080/"
        },
        "id": "xubm_1FxdkIF",
        "outputId": "5a2ebfcb-1c29-4dfb-f3b0-4527d640ac32"
      },
      "execution_count": null,
      "outputs": [
        {
          "output_type": "stream",
          "name": "stderr",
          "text": [
            "Installing package into ‘/usr/local/lib/R/site-library’\n",
            "(as ‘lib’ is unspecified)\n",
            "\n"
          ]
        }
      ]
    },
    {
      "cell_type": "code",
      "source": [
        "install.packages(\"tidyverse\")"
      ],
      "metadata": {
        "colab": {
          "base_uri": "https://localhost:8080/"
        },
        "id": "sIx5L83Rego3",
        "outputId": "3e23e623-3dfe-4e6e-f617-e6f1c8afd444"
      },
      "execution_count": null,
      "outputs": [
        {
          "output_type": "stream",
          "name": "stderr",
          "text": [
            "Installing package into ‘/usr/local/lib/R/site-library’\n",
            "(as ‘lib’ is unspecified)\n",
            "\n"
          ]
        }
      ]
    },
    {
      "cell_type": "code",
      "source": [
        "df <- data.frame(\n",
        "Name = c(\"vipul\", \"jayesh\", \"anurag\"),\n",
        "Age = c(25, 23, 22),\n",
        "Score = c(95, 89, 78)\n",
        ")\n",
        "df\n"
      ],
      "metadata": {
        "colab": {
          "base_uri": "https://localhost:8080/",
          "height": 192
        },
        "id": "C8ttG2o7e1A1",
        "outputId": "bcac5c1f-046c-4e57-a862-d57b55a2461a"
      },
      "execution_count": null,
      "outputs": [
        {
          "output_type": "display_data",
          "data": {
            "text/html": [
              "<table class=\"dataframe\">\n",
              "<caption>A data.frame: 3 × 3</caption>\n",
              "<thead>\n",
              "\t<tr><th scope=col>Name</th><th scope=col>Age</th><th scope=col>Score</th></tr>\n",
              "\t<tr><th scope=col>&lt;chr&gt;</th><th scope=col>&lt;dbl&gt;</th><th scope=col>&lt;dbl&gt;</th></tr>\n",
              "</thead>\n",
              "<tbody>\n",
              "\t<tr><td>vipul </td><td>25</td><td>95</td></tr>\n",
              "\t<tr><td>jayesh</td><td>23</td><td>89</td></tr>\n",
              "\t<tr><td>anurag</td><td>22</td><td>78</td></tr>\n",
              "</tbody>\n",
              "</table>\n"
            ],
            "text/markdown": "\nA data.frame: 3 × 3\n\n| Name &lt;chr&gt; | Age &lt;dbl&gt; | Score &lt;dbl&gt; |\n|---|---|---|\n| vipul  | 25 | 95 |\n| jayesh | 23 | 89 |\n| anurag | 22 | 78 |\n\n",
            "text/latex": "A data.frame: 3 × 3\n\\begin{tabular}{lll}\n Name & Age & Score\\\\\n <chr> & <dbl> & <dbl>\\\\\n\\hline\n\t vipul  & 25 & 95\\\\\n\t jayesh & 23 & 89\\\\\n\t anurag & 22 & 78\\\\\n\\end{tabular}\n",
            "text/plain": [
              "  Name   Age Score\n",
              "1 vipul  25  95   \n",
              "2 jayesh 23  89   \n",
              "3 anurag 22  78   "
            ]
          },
          "metadata": {}
        }
      ]
    },
    {
      "cell_type": "code",
      "source": [
        "install.packages(\"tidyverse\")\n"
      ],
      "metadata": {
        "colab": {
          "base_uri": "https://localhost:8080/"
        },
        "id": "Njgmnib6e0_3",
        "outputId": "836f5ac9-0bb6-4dd2-8a60-e608cbacfb99"
      },
      "execution_count": null,
      "outputs": [
        {
          "output_type": "stream",
          "name": "stderr",
          "text": [
            "Installing package into ‘/usr/local/lib/R/site-library’\n",
            "(as ‘lib’ is unspecified)\n",
            "\n"
          ]
        }
      ]
    },
    {
      "cell_type": "code",
      "source": [
        "install.packages(\"tidyr\")"
      ],
      "metadata": {
        "colab": {
          "base_uri": "https://localhost:8080/"
        },
        "id": "3mGb6X2jfInF",
        "outputId": "30b2603e-3843-4b43-a374-37bba2195250"
      },
      "execution_count": null,
      "outputs": [
        {
          "output_type": "stream",
          "name": "stderr",
          "text": [
            "Installing package into ‘/usr/local/lib/R/site-library’\n",
            "(as ‘lib’ is unspecified)\n",
            "\n"
          ]
        }
      ]
    },
    {
      "cell_type": "code",
      "source": [
        "# load the tidyr package\n",
        "library(tidyr)\n",
        "\n",
        "n = 10\n",
        "# creating a data frame\n",
        "tidy_dataframe = data.frame(\n",
        "\t\t\t\t\tS.No = c(1:n),\n",
        "\t\t\t\t\tGroup.1 = c(23, 345, 76, 212, 88,\n",
        "\t\t\t\t\t\t\t\t199, 72, 35, 90, 265),\n",
        "\t\t\t\t\tGroup.2 = c(117, 89, 66, 334, 90,\n",
        "\t\t\t\t\t\t\t101, 178, 233, 45, 200),\n",
        "\t\t\t\t\tGroup.3 = c(29, 101, 239, 289, 176,\n",
        "\t\t\t\t\t\t\t\t320, 89, 109, 199, 56))\n",
        "\n",
        "# print the elements of the data frame\n",
        "tidy_dataframe\n"
      ],
      "metadata": {
        "colab": {
          "base_uri": "https://localhost:8080/",
          "height": 412
        },
        "id": "iU7FDu9pfLnt",
        "outputId": "c806b3f8-f5c2-48e2-d44a-f5361b6ea6ac"
      },
      "execution_count": null,
      "outputs": [
        {
          "output_type": "display_data",
          "data": {
            "text/html": [
              "<table class=\"dataframe\">\n",
              "<caption>A data.frame: 10 × 4</caption>\n",
              "<thead>\n",
              "\t<tr><th scope=col>S.No</th><th scope=col>Group.1</th><th scope=col>Group.2</th><th scope=col>Group.3</th></tr>\n",
              "\t<tr><th scope=col>&lt;int&gt;</th><th scope=col>&lt;dbl&gt;</th><th scope=col>&lt;dbl&gt;</th><th scope=col>&lt;dbl&gt;</th></tr>\n",
              "</thead>\n",
              "<tbody>\n",
              "\t<tr><td> 1</td><td> 23</td><td>117</td><td> 29</td></tr>\n",
              "\t<tr><td> 2</td><td>345</td><td> 89</td><td>101</td></tr>\n",
              "\t<tr><td> 3</td><td> 76</td><td> 66</td><td>239</td></tr>\n",
              "\t<tr><td> 4</td><td>212</td><td>334</td><td>289</td></tr>\n",
              "\t<tr><td> 5</td><td> 88</td><td> 90</td><td>176</td></tr>\n",
              "\t<tr><td> 6</td><td>199</td><td>101</td><td>320</td></tr>\n",
              "\t<tr><td> 7</td><td> 72</td><td>178</td><td> 89</td></tr>\n",
              "\t<tr><td> 8</td><td> 35</td><td>233</td><td>109</td></tr>\n",
              "\t<tr><td> 9</td><td> 90</td><td> 45</td><td>199</td></tr>\n",
              "\t<tr><td>10</td><td>265</td><td>200</td><td> 56</td></tr>\n",
              "</tbody>\n",
              "</table>\n"
            ],
            "text/markdown": "\nA data.frame: 10 × 4\n\n| S.No &lt;int&gt; | Group.1 &lt;dbl&gt; | Group.2 &lt;dbl&gt; | Group.3 &lt;dbl&gt; |\n|---|---|---|---|\n|  1 |  23 | 117 |  29 |\n|  2 | 345 |  89 | 101 |\n|  3 |  76 |  66 | 239 |\n|  4 | 212 | 334 | 289 |\n|  5 |  88 |  90 | 176 |\n|  6 | 199 | 101 | 320 |\n|  7 |  72 | 178 |  89 |\n|  8 |  35 | 233 | 109 |\n|  9 |  90 |  45 | 199 |\n| 10 | 265 | 200 |  56 |\n\n",
            "text/latex": "A data.frame: 10 × 4\n\\begin{tabular}{llll}\n S.No & Group.1 & Group.2 & Group.3\\\\\n <int> & <dbl> & <dbl> & <dbl>\\\\\n\\hline\n\t  1 &  23 & 117 &  29\\\\\n\t  2 & 345 &  89 & 101\\\\\n\t  3 &  76 &  66 & 239\\\\\n\t  4 & 212 & 334 & 289\\\\\n\t  5 &  88 &  90 & 176\\\\\n\t  6 & 199 & 101 & 320\\\\\n\t  7 &  72 & 178 &  89\\\\\n\t  8 &  35 & 233 & 109\\\\\n\t  9 &  90 &  45 & 199\\\\\n\t 10 & 265 & 200 &  56\\\\\n\\end{tabular}\n",
            "text/plain": [
              "   S.No Group.1 Group.2 Group.3\n",
              "1   1    23     117      29    \n",
              "2   2   345      89     101    \n",
              "3   3    76      66     239    \n",
              "4   4   212     334     289    \n",
              "5   5    88      90     176    \n",
              "6   6   199     101     320    \n",
              "7   7    72     178      89    \n",
              "8   8    35     233     109    \n",
              "9   9    90      45     199    \n",
              "10 10   265     200      56    "
            ]
          },
          "metadata": {}
        }
      ]
    },
    {
      "cell_type": "markdown",
      "source": [
        "# **Conclusion:**\n",
        "\n",
        "\n",
        "\n",
        "*  Identified the Data Analytics Libraries in Python and R\n",
        "*   Performed simple experiments with these libraries in Python and R\n"
      ],
      "metadata": {
        "id": "7tVaKJphfQp3"
      }
    }
  ]
}